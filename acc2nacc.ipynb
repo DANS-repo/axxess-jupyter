{
 "cells": [
  {
   "cell_type": "markdown",
   "metadata": {},
   "source": [
    "# Example 2: Migrate MS Access databases\n",
    "\n",
    "Migration of MS Access databases can rescue invaluable data from oblivion. The MS Access 97 format for instance cannot be opened anymore by the latest version of MS Access. Furthermore, if you have large quantities of databases in an older format it may become quite tedious to do a one-by-one migration by hand. [Axxess](https://github.com/DANS-repo/axxess) can be used to migrate complete directory structures with databases to the same or similar directory structures. The original databases will be migrated to the csv-format you prefer and/or newer versions of MS Access. At your choice, the csv files can also be zipped, with or without compression.\n",
    "\n",
    "In this Notebook we will convert two databases that were saved in MS Access versions '97 and 2000 to csv files, zip and compress the csv files and rebuild the databases in a newer version. For brevity we do it here for two databases; a batch conversion of a thousand databases would need the same amount of preparation (altough it would obviously take a bit more time to run). At the end of this Notebook we'll hand a solution for an error that sometimes occurs when (re)building a database.\n",
    "\n",
    "### Prerequisites\n",
    "\n",
    "- System requirement: java 8 or higher"
   ]
  },
  {
   "cell_type": "code",
   "execution_count": 1,
   "metadata": {},
   "outputs": [
    {
     "name": "stdout",
     "output_type": "stream",
     "text": [
      "java version \"1.8.0_101\"\n",
      "Java(TM) SE Runtime Environment (build 1.8.0_101-b13)\n",
      "Java HotSpot(TM) 64-Bit Server VM (build 25.101-b13, mixed mode)\n"
     ]
    }
   ],
   "source": [
    "!java -version"
   ]
  },
  {
   "cell_type": "markdown",
   "metadata": {},
   "source": [
    "### Table of contents\n",
    "\n",
    "- [Preparation of the workspace](#pows)\n",
    "    * [Example data](#pows_data)\n",
    "    * [Download Axxess](#pows_axxess)\n",
    "    * [Axxess help](#pows_help)  \n",
    "     \n",
    "     \n",
    "- [Migrate databases](#migrate)\n",
    "    * [Write a properties file](#properties)\n",
    "    * [Start Axxess](#start)\n",
    "    * [Inspect output](#inspect)  \n",
    "     \n",
    "     \n",
    "- [Errors (and what to do with them)](#errors)\n",
    "    * [Constraint vioalation exception](#constraint)"
   ]
  },
  {
   "cell_type": "markdown",
   "metadata": {},
   "source": [
    "# Preparation of the workspace <a id=\"pows\"></a>\n",
    "\n",
    "If you played te previous example Notebook [Eample 1](https://github.com/DANS-repo/axxess-jupyter/blob/master/acc2csv.ipynb) then half of the workspace is already prepared. For newbees we'll walk the installation a second time. Create directories were we can store source data files and the Axxess jar-file..."
   ]
  },
  {
   "cell_type": "code",
   "execution_count": 2,
   "metadata": {},
   "outputs": [],
   "source": [
    "import os\n",
    "\n",
    "os.makedirs(\"java\", exist_ok=True)\n",
    "os.makedirs(\"work/migrate\", exist_ok=True)"
   ]
  },
  {
   "cell_type": "markdown",
   "metadata": {},
   "source": [
    "A download routine..."
   ]
  },
  {
   "cell_type": "code",
   "execution_count": 3,
   "metadata": {},
   "outputs": [],
   "source": [
    "import requests\n",
    "\n",
    "def download_file(url, filename):\n",
    "    mb = 2**20\n",
    "    bts = 0\n",
    "    print(\"Downloading\", url)\n",
    "    r = requests.get(url, stream=True)\n",
    "    with open(filename, 'wb') as f:\n",
    "        for chunk in r.iter_content(chunk_size=1024): \n",
    "            bts += 1024\n",
    "            if chunk:\n",
    "                f.write(chunk)\n",
    "                if bts % mb == 0:\n",
    "                    print('.', end='', flush=True)\n",
    "    return filename, bts, bts/mb"
   ]
  },
  {
   "cell_type": "markdown",
   "metadata": {},
   "source": [
    "### Example data <a id=\"pows_data\"></a>"
   ]
  },
  {
   "cell_type": "code",
   "execution_count": 4,
   "metadata": {},
   "outputs": [
    {
     "name": "stdout",
     "output_type": "stream",
     "text": [
      "Downloading https://easy.dans.knaw.nl/ui/rest/datasets/61704/files/4917456/content\n",
      "....................................................................."
     ]
    },
    {
     "data": {
      "text/plain": [
       "('work/migrate/avereest.mdb', 72353792, 69.001953125)"
      ]
     },
     "execution_count": 4,
     "metadata": {},
     "output_type": "execute_result"
    }
   ],
   "source": [
    "download_file(\"https://easy.dans.knaw.nl/ui/rest/datasets/61704/files/4917456/content\", \"work/migrate/avereest.mdb\")"
   ]
  },
  {
   "cell_type": "code",
   "execution_count": 5,
   "metadata": {},
   "outputs": [
    {
     "name": "stdout",
     "output_type": "stream",
     "text": [
      "Downloading https://easy.dans.knaw.nl/ui/rest/datasets/48968/files/2964358/content\n",
      "...."
     ]
    },
    {
     "data": {
      "text/plain": [
       "('work/migrate/Boedelbestand Walcheren 1755-1855.MDB', 4562944, 4.3515625)"
      ]
     },
     "execution_count": 5,
     "metadata": {},
     "output_type": "execute_result"
    }
   ],
   "source": [
    "download_file(\"https://easy.dans.knaw.nl/ui/rest/datasets/48968/files/2964358/content\", \"work/migrate/Boedelbestand Walcheren 1755-1855.MDB\")"
   ]
  },
  {
   "cell_type": "markdown",
   "metadata": {},
   "source": [
    "### Download Axxess jar-with-dependencies <a id=\"pows_axxess\"></a>"
   ]
  },
  {
   "cell_type": "code",
   "execution_count": 6,
   "metadata": {},
   "outputs": [
    {
     "name": "stdout",
     "output_type": "stream",
     "text": [
      "Downloading https://github.com/DANS-repo/axxess/releases/download/1.0.1/axxess-jar-with-dependencies.jar\n",
      "........................................................."
     ]
    },
    {
     "data": {
      "text/plain": [
       "('java/axxess-jar-with-dependencies.jar', 60484608, 57.6826171875)"
      ]
     },
     "execution_count": 6,
     "metadata": {},
     "output_type": "execute_result"
    }
   ],
   "source": [
    "url = \"https://github.com/DANS-repo/axxess/releases/download/1.0.1/axxess-jar-with-dependencies.jar\"\n",
    "filename = \"java/axxess-jar-with-dependencies.jar\"\n",
    "download_file(url, filename)"
   ]
  },
  {
   "cell_type": "markdown",
   "metadata": {},
   "source": [
    "### Axxess help <a id=\"pows_help\"></a>\n",
    "\n",
    "Access help will briefly inform you about its usage. Help will be printed if invoking axxess with no arguments or with arguments -h or --help."
   ]
  },
  {
   "cell_type": "code",
   "execution_count": 7,
   "metadata": {},
   "outputs": [
    {
     "name": "stdout",
     "output_type": "stream",
     "text": [
      "Axxess is a tool for converting MS Access databases to and from csv files.\n",
      "See also: https://github.com/DANS-repo/axxess\n",
      "\n",
      "USAGE:\n",
      "\n",
      "          java -jar axxess-jar-with-dependencies.jar [axxess.properties] [logback configuration]\n",
      "\n",
      "axxess.properties      - configuration file.\n",
      "                         See https://github.com/DANS-repo/axxess/blob/master/docker/cfg/axxess.properties\n",
      "                         If no properties file given will look for cfg/axxess.properties\n",
      "\n",
      "logback configuration  - logging configuration.\n",
      "                         See https://logback.qos.ch/manual/configuration.html\n",
      "                         If no logging configuration given will log to logs/axxess.log\n"
     ]
    }
   ],
   "source": [
    "!java -jar java/axxess-jar-with-dependencies.jar -h"
   ]
  },
  {
   "cell_type": "markdown",
   "metadata": {},
   "source": [
    "# Migrate databases <a id=\"migrate\"></a>\n",
    "\n",
    "As the help showed us, as a default, logging will be done to `logs/axxess.log`. It might be nice to have Axxess log warnings to our Notebook. In that case logging must be directed to `System.out`."
   ]
  },
  {
   "cell_type": "markdown",
   "metadata": {},
   "source": [
    "Axxess can be configured and instructed with a properties file. An example properties file and documentation can be found [here](https://github.com/DANS-repo/axxess/blob/master/docker/cfg/axxess.properties). Most properties have a default value, the only ones you need to provide for Access to Access conversion are `axxess.mode` and `db.source.file`.\n",
    "\n",
    "### Write a properties file <a id=\"properties\"></a>"
   ]
  },
  {
   "cell_type": "code",
   "execution_count": 8,
   "metadata": {},
   "outputs": [
    {
     "name": "stdout",
     "output_type": "stream",
     "text": [
      "Writing java/axxess.properties\n"
     ]
    }
   ],
   "source": [
    "%%writefile java/axxess.properties\n",
    "axxess.mode=aca\n",
    "# access to csv properties\n",
    "db.source.file=work/migrate\n",
    "csv.target.directory=work/migrate-csv\n",
    "create.zip=true\n",
    "compress.zip=true\n",
    "# csv to access properties\n",
    "db.target.database.format=V2010\n",
    "db.target.directory=work/migrate"
   ]
  },
  {
   "cell_type": "markdown",
   "metadata": {},
   "source": [
    "Explanation of the properties. We set the `axxess.mode` to `aca`, that means convert **a**ccess to **c**sv and back to **a**ccess. We set `db.source.file`  and `db.target.directory` both to `work/migrate`. That means migrated databases wil be in the same directory (structure) as the source files. `csv.target.directory` has been set to `work/migrate-csv`. By that we instruct Axxess to put the csv-output in said directory. We set `create.zip` and `compress.zip` both to `true`, which means a compressed zip will be created from the csv files. Finally we set `db.target.database.format` to `V2010`. That last statement was not strictly necessary, the default format is already `V2010`.\n",
    "\n",
    "### Start Axxess <a id=\"start\"></a>"
   ]
  },
  {
   "cell_type": "code",
   "execution_count": 9,
   "metadata": {},
   "outputs": [
    {
     "name": "stdout",
     "output_type": "stream",
     "text": [
      "No log configuration given. Using default. See: logs/axxess.log\n",
      "Converted 2 database(s) to 2 result files, with 0 error(s) and 0 warnings(s).\n",
      "Converted 2 metadata file(s) to 2 database(s), with 0 error(s) and 0 warning(s)\n",
      "See logs for details\n"
     ]
    }
   ],
   "source": [
    "!java -jar java/axxess-jar-with-dependencies.jar java/axxess.properties"
   ]
  },
  {
   "cell_type": "markdown",
   "metadata": {},
   "source": [
    "As we can see from the log, Axxess or better the underlying library [Jackcess](http://jackcess.sourceforge.net/), had a little difficulty with the indexes on some tables in `avereest.mdb`. It made them read-only.\n",
    "\n",
    "So where are the converted files?\n",
    "\n",
    "### Inspect the output <a id=\"inspect\"></a>"
   ]
  },
  {
   "cell_type": "code",
   "execution_count": 10,
   "metadata": {},
   "outputs": [
    {
     "name": "stdout",
     "output_type": "stream",
     "text": [
      "total 152568\n",
      "drwxr-xr-x  6 ecco  staff       192 Mar 17 15:56 \u001b[34m.\u001b[m\u001b[m\n",
      "drwxr-xr-x  9 ecco  staff       288 Mar 17 15:55 \u001b[34m..\u001b[m\u001b[m\n",
      "-rw-r--r--  1 ecco  staff   4562944 Mar 17 15:55 Boedelbestand Walcheren 1755-1855.MDB\n",
      "drwxr-xr-x  4 ecco  staff       128 Mar 17 15:56 \u001b[34mBoedelbestand Walcheren 1755-1855_MDB\u001b[m\u001b[m\n",
      "-rw-r--r--  1 ecco  staff  72353792 Mar 17 15:55 avereest.mdb\n",
      "drwxr-xr-x  4 ecco  staff       128 Mar 17 15:57 \u001b[34mavereest_mdb\u001b[m\u001b[m\n"
     ]
    }
   ],
   "source": [
    "!ls -la work/migrate"
   ]
  },
  {
   "cell_type": "markdown",
   "metadata": {},
   "source": [
    "In `work/migrate` we still have the original databases and two new directories with the same name as the old databases, only the dot (.) in the database name has been replaced with an underscore (\\_) in the directory name. What's in this directory?"
   ]
  },
  {
   "cell_type": "code",
   "execution_count": 11,
   "metadata": {},
   "outputs": [
    {
     "name": "stdout",
     "output_type": "stream",
     "text": [
      "total 2056\n",
      "drwxr-xr-x  4 ecco  staff      128 Mar 17 15:56 \u001b[34m.\u001b[m\u001b[m\n",
      "drwxr-xr-x  6 ecco  staff      192 Mar 17 15:56 \u001b[34m..\u001b[m\u001b[m\n",
      "-rw-r--r--  1 ecco  staff  1048576 Mar 17 15:56 Boedelbestand Walcheren 1755-1855.MDB.accdb\n",
      "-rw-r--r--  1 ecco  staff       85 Mar 17 15:56 manifest-sha1.txt\n"
     ]
    }
   ],
   "source": [
    "!ls -la work/migrate/Boedelbestand\\ Walcheren\\ 1755-1855_MDB"
   ]
  },
  {
   "cell_type": "markdown",
   "metadata": {},
   "source": [
    "Exactly. The migrated database, now with a `.accdb` extension and a `manifest-sha1.txt` with the SHA1 checksum of the newly created database.\n",
    "\n",
    "The zip files are, along with the csv files, in `work/migrate-csv`:"
   ]
  },
  {
   "cell_type": "code",
   "execution_count": 12,
   "metadata": {},
   "outputs": [
    {
     "name": "stdout",
     "output_type": "stream",
     "text": [
      "total 19096\n",
      "drwxr-xr-x   6 ecco  staff      192 Mar 17 15:56 \u001b[34m.\u001b[m\u001b[m\n",
      "drwxr-xr-x   9 ecco  staff      288 Mar 17 15:55 \u001b[34m..\u001b[m\u001b[m\n",
      "-rw-r--r--   1 ecco  staff   140032 Mar 17 15:56 Boedelbestand Walcheren 1755-1855.MDB.csv.zip\n",
      "drwxr-xr-x   7 ecco  staff      224 Mar 17 15:56 \u001b[34mBoedelbestand Walcheren 1755-1855_MDB\u001b[m\u001b[m\n",
      "-rw-r--r--   1 ecco  staff  9153021 Mar 17 15:56 avereest.mdb.csv.zip\n",
      "drwxr-xr-x  68 ecco  staff     2176 Mar 17 15:56 \u001b[34mavereest_mdb\u001b[m\u001b[m\n"
     ]
    }
   ],
   "source": [
    "!ls -la work/migrate-csv"
   ]
  },
  {
   "cell_type": "code",
   "execution_count": 13,
   "metadata": {},
   "outputs": [
    {
     "name": "stdout",
     "output_type": "stream",
     "text": [
      "total 1040\n",
      "drwxr-xr-x  7 ecco  staff     224 Mar 17 15:56 \u001b[34m.\u001b[m\u001b[m\n",
      "drwxr-xr-x  6 ecco  staff     192 Mar 17 15:56 \u001b[34m..\u001b[m\u001b[m\n",
      "-rw-r--r--  1 ecco  staff  101153 Mar 17 15:56 Boedelbestand Walcheren 1755-1855.MDB.1e_periode_erflaters_Walcheren_(platteland).csv\n",
      "-rw-r--r--  1 ecco  staff  132391 Mar 17 15:56 Boedelbestand Walcheren 1755-1855.MDB.2e_periode_erflaters_Walcheren_(stad_+_platteland).csv\n",
      "-rw-r--r--  1 ecco  staff  113071 Mar 17 15:56 Boedelbestand Walcheren 1755-1855.MDB.3e_periode_erflaters_Walcheren_(stad_+_platteland).csv\n",
      "-rw-r--r--  1 ecco  staff  175144 Mar 17 15:56 Boedelbestand Walcheren 1755-1855.MDB._metadata.csv\n",
      "-rw-r--r--  1 ecco  staff     488 Mar 17 15:56 manifest-sha1.txt\n"
     ]
    }
   ],
   "source": [
    "!ls -la work/migrate-csv/Boedelbestand\\ Walcheren\\ 1755-1855_MDB"
   ]
  },
  {
   "cell_type": "markdown",
   "metadata": {},
   "source": [
    "# Errors (and what to do with them) <a id=\"errors\"></a>\n",
    "\n",
    "Sometimes a migration from csv back to Access ends with an exception. This does not (always) mean we cannot recover the database. Sometimes we need to restrict what database metadata we want to convert in order to rescue the data in tables. Here is an example. First restrict the log output to get a clearer vision."
   ]
  },
  {
   "cell_type": "code",
   "execution_count": 14,
   "metadata": {},
   "outputs": [
    {
     "name": "stdout",
     "output_type": "stream",
     "text": [
      "Writing java/errorlogback.xml\n"
     ]
    }
   ],
   "source": [
    "%%writefile java/errorlogback.xml\n",
    "<?xml version=\"1.0\" encoding=\"UTF-8\"?>\n",
    "<configuration>\n",
    "  <appender name=\"STDERR\" class=\"ch.qos.logback.core.ConsoleAppender\">\n",
    "    <encoder>\n",
    "      <pattern>%d{HH:mm:ss.SSS} [%thread] %-5level %logger{10} - %msg%n</pattern>\n",
    "    </encoder>\n",
    "  </appender>\n",
    "  <root level=\"error\">\n",
    "    <appender-ref ref=\"STDERR\"/>\n",
    "  </root>\n",
    "</configuration>"
   ]
  },
  {
   "cell_type": "markdown",
   "metadata": {},
   "source": [
    "### Constraint violation exception <a id=\"constraint\"></a>\n",
    "\n",
    "A database cannot be rebuild because table data does not satisfy index restrictions. Remedy: leaf out the indexes."
   ]
  },
  {
   "cell_type": "code",
   "execution_count": 15,
   "metadata": {},
   "outputs": [
    {
     "name": "stdout",
     "output_type": "stream",
     "text": [
      "Overwriting java/axxess.properties\n"
     ]
    }
   ],
   "source": [
    "%%writefile java/axxess.properties\n",
    "axxess.mode=aca\n",
    "# access to csv properties\n",
    "db.source.file=work/src-data/Art17_MS_EU27_2015.mdb\n",
    "csv.target.directory=work/error-csv\n",
    "# csv to access properties\n",
    "db.target.directory=work/error-db"
   ]
  },
  {
   "cell_type": "code",
   "execution_count": 16,
   "metadata": {},
   "outputs": [
    {
     "name": "stdout",
     "output_type": "stream",
     "text": [
      "15:57:58.541 [main] ERROR n.k.d.r.a.c.Csv2AxxessConverter - Context:  Format=V2000 [VERSION_4], Table=data_measures file: /Users/ecco/git/axxess-jupyter/work/error-csv/Art17_MS_EU27_2015_mdb/Art17_MS_EU27_2015.mdb._metadata.csv\n",
      "com.healthmarketscience.jackcess.ConstraintViolationException: New row [3.1, 08a791256e1d92149d6d15a083e620a9, null, false, false, false, true, false, M, false, false, true, false, false, true, false, false, false] violates uniqueness constraint for index (Db=Art17_MS_EU27_2015.mdb.accdb;Table=data_measures;Index=unique)\n",
      "\tat com.healthmarketscience.jackcess.impl.IndexData.prepareAddEntry(IndexData.java:657)\n",
      "\tat com.healthmarketscience.jackcess.impl.IndexData.prepareAddRow(IndexData.java:626)\n",
      "\tat com.healthmarketscience.jackcess.impl.IndexData.prepareAddRow(IndexData.java:604)\n",
      "\tat com.healthmarketscience.jackcess.impl.TableImpl.addRows(TableImpl.java:2223)\n",
      "\tat com.healthmarketscience.jackcess.impl.TableImpl.addRow(TableImpl.java:2086)\n",
      "\tat nl.knaw.dans.repo.axxess.csv2acc.Csv2AxxessConverter.parseTableData(Csv2AxxessConverter.java:377)\n",
      "\tat nl.knaw.dans.repo.axxess.csv2acc.Csv2AxxessConverter.builtFromFile(Csv2AxxessConverter.java:295)\n",
      "\tat nl.knaw.dans.repo.axxess.csv2acc.Csv2AxxessConverter.convert(Csv2AxxessConverter.java:156)\n",
      "\tat nl.knaw.dans.repo.axxess.csv2acc.Csv2AxxessConverter.convert(Csv2AxxessConverter.java:152)\n",
      "\tat nl.knaw.dans.repo.axxess.csv2acc.Csv2AxxessConverter.convert(Csv2AxxessConverter.java:152)\n",
      "\tat nl.knaw.dans.repo.axxess.csv2acc.Csv2AxxessConverter.convert(Csv2AxxessConverter.java:124)\n",
      "\tat nl.knaw.dans.repo.axxess.app.AxxessMain.doConvert(AxxessMain.java:184)\n",
      "\tat nl.knaw.dans.repo.axxess.app.AxxessMain.main(AxxessMain.java:97)\n",
      "Converted 1 database(s) to 38 result files, with 0 error(s) and 0 warnings(s).\n",
      "Converted 0 metadata file(s) to 0 database(s), with 1 error(s) and 0 warning(s)\n",
      "See logs for details\n"
     ]
    }
   ],
   "source": [
    "!java -jar java/axxess-jar-with-dependencies.jar java/axxess.properties java/errorlogback.xml"
   ]
  },
  {
   "cell_type": "markdown",
   "metadata": {},
   "source": [
    "#### Solution\n",
    "\n",
    "Do not write indexes when building the new database. You can control this with the property `db.target.include.indexes = true | false`. Unfortunately this sets off indexes **and** relationships for the whole database. Here we go again, csv files have already been extracted, just build in mode `ca` and forget about indexes."
   ]
  },
  {
   "cell_type": "code",
   "execution_count": 17,
   "metadata": {},
   "outputs": [
    {
     "name": "stdout",
     "output_type": "stream",
     "text": [
      "Overwriting java/axxess.properties\n"
     ]
    }
   ],
   "source": [
    "%%writefile java/axxess.properties\n",
    "axxess.mode=ca\n",
    "# csv to access properties\n",
    "csv.source.file=work/error-csv\n",
    "db.target.include.indexes=false\n",
    "db.target.directory=work/error-db"
   ]
  },
  {
   "cell_type": "code",
   "execution_count": 18,
   "metadata": {},
   "outputs": [
    {
     "name": "stdout",
     "output_type": "stream",
     "text": [
      "No log configuration given. Using default. See: logs/axxess.log\n",
      "Converted 1 metadata file(s) to 1 database(s), with 0 error(s) and 0 warning(s)\n",
      "See logs for details\n"
     ]
    }
   ],
   "source": [
    "!java -jar java/axxess-jar-with-dependencies.jar java/axxess.properties"
   ]
  }
 ],
 "metadata": {
  "kernelspec": {
   "display_name": "Python 3",
   "language": "python",
   "name": "python3"
  },
  "language_info": {
   "codemirror_mode": {
    "name": "ipython",
    "version": 3
   },
   "file_extension": ".py",
   "mimetype": "text/x-python",
   "name": "python",
   "nbconvert_exporter": "python",
   "pygments_lexer": "ipython3",
   "version": "3.6.4"
  }
 },
 "nbformat": 4,
 "nbformat_minor": 2
}
